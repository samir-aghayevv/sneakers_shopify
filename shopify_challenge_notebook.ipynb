{
 "cells": [
  {
   "cell_type": "markdown",
   "id": "7d0d6265",
   "metadata": {},
   "source": [
    "# Think about what could be going wrong with our calculation. Think about a better way to evaluate this data.\n"
   ]
  },
  {
   "cell_type": "code",
   "execution_count": 402,
   "id": "72894e42",
   "metadata": {},
   "outputs": [],
   "source": [
    "import numpy as np\n",
    "import pandas as pd\n",
    "import matplotlib.pyplot as plt\n",
    "import seaborn as sns\n",
    "from scipy import stats\n",
    "sns.set()\n",
    "sns.set(rc={'figure.figsize':(11.7,8.27)})"
   ]
  },
  {
   "cell_type": "code",
   "execution_count": 403,
   "id": "95ba7289",
   "metadata": {},
   "outputs": [
    {
     "data": {
      "text/plain": [
       "0      2017-03-01 00:08:09\n",
       "1      2017-03-01 00:10:19\n",
       "2      2017-03-01 00:14:12\n",
       "3      2017-03-01 00:19:31\n",
       "4      2017-03-01 00:22:25\n",
       "               ...        \n",
       "4995   2017-03-30 23:12:13\n",
       "4996   2017-03-30 23:16:10\n",
       "4997   2017-03-30 23:26:54\n",
       "4998   2017-03-30 23:41:34\n",
       "4999   2017-03-30 23:55:35\n",
       "Name: created_at, Length: 5000, dtype: datetime64[ns]"
      ]
     },
     "execution_count": 403,
     "metadata": {},
     "output_type": "execute_result"
    }
   ],
   "source": [
    "shops_data = pd.read_csv('2019 Winter Data Science Intern Challenge Data Set - Sheet1.csv')\n",
    "\n",
    "# conversion of time column to pandas date-time format\n",
    "shops_data['created_at'] = pd.to_datetime(shops_data['created_at'])\n",
    "shops_data.sort_values(by='created_at', inplace = True)\n",
    "shops_data.reset_index(drop=True,inplace=True)\n",
    "\n",
    "\n",
    "# it was stated that AOV was naively calculated based on 30 days window\n",
    "# let's check available datapoints datetime constraints\n",
    "\n",
    "shops_data.reset_index(inplace=True)\n",
    "shops_data['created_at']\n",
    "\n",
    "# seems like data provided for 30 days, therefore no need to build summary for several 30days time window\n",
    "# seems there is just one interval of ~30 days"
   ]
  },
  {
   "cell_type": "code",
   "execution_count": 404,
   "id": "f3f6badd",
   "metadata": {},
   "outputs": [
    {
     "data": {
      "text/plain": [
       "3145.128"
      ]
     },
     "execution_count": 404,
     "metadata": {},
     "output_type": "execute_result"
    }
   ],
   "source": [
    "# AOV was naively calculated using order amount data column average value\n",
    "shops_data['order_amount'].mean()\n",
    "\n",
    "# However, value seems to be too big for \"afordable\" item"
   ]
  },
  {
   "cell_type": "code",
   "execution_count": 405,
   "id": "3ed1e7d1",
   "metadata": {},
   "outputs": [
    {
     "data": {
      "text/html": [
       "<div>\n",
       "<style scoped>\n",
       "    .dataframe tbody tr th:only-of-type {\n",
       "        vertical-align: middle;\n",
       "    }\n",
       "\n",
       "    .dataframe tbody tr th {\n",
       "        vertical-align: top;\n",
       "    }\n",
       "\n",
       "    .dataframe thead th {\n",
       "        text-align: right;\n",
       "    }\n",
       "</style>\n",
       "<table border=\"1\" class=\"dataframe\">\n",
       "  <thead>\n",
       "    <tr style=\"text-align: right;\">\n",
       "      <th></th>\n",
       "      <th>index</th>\n",
       "      <th>order_amount</th>\n",
       "      <th>total_items</th>\n",
       "      <th>payment_method</th>\n",
       "      <th>created_at</th>\n",
       "    </tr>\n",
       "  </thead>\n",
       "  <tbody>\n",
       "    <tr>\n",
       "      <th>count</th>\n",
       "      <td>5000.000000</td>\n",
       "      <td>5000.000000</td>\n",
       "      <td>5000.00000</td>\n",
       "      <td>5000</td>\n",
       "      <td>5000</td>\n",
       "    </tr>\n",
       "    <tr>\n",
       "      <th>unique</th>\n",
       "      <td>NaN</td>\n",
       "      <td>NaN</td>\n",
       "      <td>NaN</td>\n",
       "      <td>3</td>\n",
       "      <td>NaN</td>\n",
       "    </tr>\n",
       "    <tr>\n",
       "      <th>top</th>\n",
       "      <td>NaN</td>\n",
       "      <td>NaN</td>\n",
       "      <td>NaN</td>\n",
       "      <td>credit_card</td>\n",
       "      <td>NaN</td>\n",
       "    </tr>\n",
       "    <tr>\n",
       "      <th>freq</th>\n",
       "      <td>NaN</td>\n",
       "      <td>NaN</td>\n",
       "      <td>NaN</td>\n",
       "      <td>1735</td>\n",
       "      <td>NaN</td>\n",
       "    </tr>\n",
       "    <tr>\n",
       "      <th>mean</th>\n",
       "      <td>2499.500000</td>\n",
       "      <td>3145.128000</td>\n",
       "      <td>8.78720</td>\n",
       "      <td>NaN</td>\n",
       "      <td>2017-03-15 22:20:37.076199936</td>\n",
       "    </tr>\n",
       "    <tr>\n",
       "      <th>min</th>\n",
       "      <td>0.000000</td>\n",
       "      <td>90.000000</td>\n",
       "      <td>1.00000</td>\n",
       "      <td>NaN</td>\n",
       "      <td>2017-03-01 00:08:09</td>\n",
       "    </tr>\n",
       "    <tr>\n",
       "      <th>25%</th>\n",
       "      <td>1249.750000</td>\n",
       "      <td>163.000000</td>\n",
       "      <td>1.00000</td>\n",
       "      <td>NaN</td>\n",
       "      <td>2017-03-08 07:08:03.750000128</td>\n",
       "    </tr>\n",
       "    <tr>\n",
       "      <th>50%</th>\n",
       "      <td>2499.500000</td>\n",
       "      <td>284.000000</td>\n",
       "      <td>2.00000</td>\n",
       "      <td>NaN</td>\n",
       "      <td>2017-03-16 00:21:20.500000</td>\n",
       "    </tr>\n",
       "    <tr>\n",
       "      <th>75%</th>\n",
       "      <td>3749.250000</td>\n",
       "      <td>390.000000</td>\n",
       "      <td>3.00000</td>\n",
       "      <td>NaN</td>\n",
       "      <td>2017-03-23 10:39:58.249999872</td>\n",
       "    </tr>\n",
       "    <tr>\n",
       "      <th>max</th>\n",
       "      <td>4999.000000</td>\n",
       "      <td>704000.000000</td>\n",
       "      <td>2000.00000</td>\n",
       "      <td>NaN</td>\n",
       "      <td>2017-03-30 23:55:35</td>\n",
       "    </tr>\n",
       "    <tr>\n",
       "      <th>std</th>\n",
       "      <td>1443.520003</td>\n",
       "      <td>41282.539349</td>\n",
       "      <td>116.32032</td>\n",
       "      <td>NaN</td>\n",
       "      <td>NaN</td>\n",
       "    </tr>\n",
       "  </tbody>\n",
       "</table>\n",
       "</div>"
      ],
      "text/plain": [
       "              index   order_amount  total_items payment_method  \\\n",
       "count   5000.000000    5000.000000   5000.00000           5000   \n",
       "unique          NaN            NaN          NaN              3   \n",
       "top             NaN            NaN          NaN    credit_card   \n",
       "freq            NaN            NaN          NaN           1735   \n",
       "mean    2499.500000    3145.128000      8.78720            NaN   \n",
       "min        0.000000      90.000000      1.00000            NaN   \n",
       "25%     1249.750000     163.000000      1.00000            NaN   \n",
       "50%     2499.500000     284.000000      2.00000            NaN   \n",
       "75%     3749.250000     390.000000      3.00000            NaN   \n",
       "max     4999.000000  704000.000000   2000.00000            NaN   \n",
       "std     1443.520003   41282.539349    116.32032            NaN   \n",
       "\n",
       "                           created_at  \n",
       "count                            5000  \n",
       "unique                            NaN  \n",
       "top                               NaN  \n",
       "freq                              NaN  \n",
       "mean    2017-03-15 22:20:37.076199936  \n",
       "min               2017-03-01 00:08:09  \n",
       "25%     2017-03-08 07:08:03.750000128  \n",
       "50%        2017-03-16 00:21:20.500000  \n",
       "75%     2017-03-23 10:39:58.249999872  \n",
       "max               2017-03-30 23:55:35  \n",
       "std                               NaN  "
      ]
     },
     "execution_count": 405,
     "metadata": {},
     "output_type": "execute_result"
    }
   ],
   "source": [
    "# Before we get into the AOV calculation, it'd be better to perform data cleaning. \n",
    "# Before that some general statiscial overiew would be useful\n",
    "# Descriptive statistics are very useful for initial exploration of the variables\n",
    "\n",
    "shops_data_statistics = shops_data.drop(['order_id', 'shop_id', 'user_id'],axis=1)\n",
    "shops_data_statistics.describe(include='all', datetime_is_numeric=True)\n",
    "\n",
    "\n"
   ]
  },
  {
   "cell_type": "code",
   "execution_count": 406,
   "id": "90b6ce4b",
   "metadata": {},
   "outputs": [
    {
     "data": {
      "text/plain": [
       "index             0\n",
       "order_id          0\n",
       "shop_id           0\n",
       "user_id           0\n",
       "order_amount      0\n",
       "total_items       0\n",
       "payment_method    0\n",
       "created_at        0\n",
       "dtype: int64"
      ]
     },
     "execution_count": 406,
     "metadata": {},
     "output_type": "execute_result"
    }
   ],
   "source": [
    "# data.isnull() # shows a df with the information whether a data point is null \n",
    "shops_data.isnull().sum()"
   ]
  },
  {
   "cell_type": "code",
   "execution_count": 407,
   "id": "87e0b5e1",
   "metadata": {},
   "outputs": [
    {
     "data": {
      "text/html": [
       "<div>\n",
       "<style scoped>\n",
       "    .dataframe tbody tr th:only-of-type {\n",
       "        vertical-align: middle;\n",
       "    }\n",
       "\n",
       "    .dataframe tbody tr th {\n",
       "        vertical-align: top;\n",
       "    }\n",
       "\n",
       "    .dataframe thead th {\n",
       "        text-align: right;\n",
       "    }\n",
       "</style>\n",
       "<table border=\"1\" class=\"dataframe\">\n",
       "  <thead>\n",
       "    <tr style=\"text-align: right;\">\n",
       "      <th></th>\n",
       "      <th>index</th>\n",
       "      <th>order_amount</th>\n",
       "      <th>total_items</th>\n",
       "      <th>payment_method</th>\n",
       "      <th>created_at</th>\n",
       "      <th>unit_price</th>\n",
       "    </tr>\n",
       "  </thead>\n",
       "  <tbody>\n",
       "    <tr>\n",
       "      <th>count</th>\n",
       "      <td>5000.000000</td>\n",
       "      <td>5000.000000</td>\n",
       "      <td>5000.00000</td>\n",
       "      <td>5000</td>\n",
       "      <td>5000</td>\n",
       "      <td>5000.000000</td>\n",
       "    </tr>\n",
       "    <tr>\n",
       "      <th>unique</th>\n",
       "      <td>NaN</td>\n",
       "      <td>NaN</td>\n",
       "      <td>NaN</td>\n",
       "      <td>3</td>\n",
       "      <td>NaN</td>\n",
       "      <td>NaN</td>\n",
       "    </tr>\n",
       "    <tr>\n",
       "      <th>top</th>\n",
       "      <td>NaN</td>\n",
       "      <td>NaN</td>\n",
       "      <td>NaN</td>\n",
       "      <td>credit_card</td>\n",
       "      <td>NaN</td>\n",
       "      <td>NaN</td>\n",
       "    </tr>\n",
       "    <tr>\n",
       "      <th>freq</th>\n",
       "      <td>NaN</td>\n",
       "      <td>NaN</td>\n",
       "      <td>NaN</td>\n",
       "      <td>1735</td>\n",
       "      <td>NaN</td>\n",
       "      <td>NaN</td>\n",
       "    </tr>\n",
       "    <tr>\n",
       "      <th>mean</th>\n",
       "      <td>2499.500000</td>\n",
       "      <td>3145.128000</td>\n",
       "      <td>8.78720</td>\n",
       "      <td>NaN</td>\n",
       "      <td>2017-03-15 22:20:37.076199936</td>\n",
       "      <td>387.742800</td>\n",
       "    </tr>\n",
       "    <tr>\n",
       "      <th>min</th>\n",
       "      <td>0.000000</td>\n",
       "      <td>90.000000</td>\n",
       "      <td>1.00000</td>\n",
       "      <td>NaN</td>\n",
       "      <td>2017-03-01 00:08:09</td>\n",
       "      <td>90.000000</td>\n",
       "    </tr>\n",
       "    <tr>\n",
       "      <th>25%</th>\n",
       "      <td>1249.750000</td>\n",
       "      <td>163.000000</td>\n",
       "      <td>1.00000</td>\n",
       "      <td>NaN</td>\n",
       "      <td>2017-03-08 07:08:03.750000128</td>\n",
       "      <td>133.000000</td>\n",
       "    </tr>\n",
       "    <tr>\n",
       "      <th>50%</th>\n",
       "      <td>2499.500000</td>\n",
       "      <td>284.000000</td>\n",
       "      <td>2.00000</td>\n",
       "      <td>NaN</td>\n",
       "      <td>2017-03-16 00:21:20.500000</td>\n",
       "      <td>153.000000</td>\n",
       "    </tr>\n",
       "    <tr>\n",
       "      <th>75%</th>\n",
       "      <td>3749.250000</td>\n",
       "      <td>390.000000</td>\n",
       "      <td>3.00000</td>\n",
       "      <td>NaN</td>\n",
       "      <td>2017-03-23 10:39:58.249999872</td>\n",
       "      <td>169.000000</td>\n",
       "    </tr>\n",
       "    <tr>\n",
       "      <th>max</th>\n",
       "      <td>4999.000000</td>\n",
       "      <td>704000.000000</td>\n",
       "      <td>2000.00000</td>\n",
       "      <td>NaN</td>\n",
       "      <td>2017-03-30 23:55:35</td>\n",
       "      <td>25725.000000</td>\n",
       "    </tr>\n",
       "    <tr>\n",
       "      <th>std</th>\n",
       "      <td>1443.520003</td>\n",
       "      <td>41282.539349</td>\n",
       "      <td>116.32032</td>\n",
       "      <td>NaN</td>\n",
       "      <td>NaN</td>\n",
       "      <td>2441.963725</td>\n",
       "    </tr>\n",
       "  </tbody>\n",
       "</table>\n",
       "</div>"
      ],
      "text/plain": [
       "              index   order_amount  total_items payment_method  \\\n",
       "count   5000.000000    5000.000000   5000.00000           5000   \n",
       "unique          NaN            NaN          NaN              3   \n",
       "top             NaN            NaN          NaN    credit_card   \n",
       "freq            NaN            NaN          NaN           1735   \n",
       "mean    2499.500000    3145.128000      8.78720            NaN   \n",
       "min        0.000000      90.000000      1.00000            NaN   \n",
       "25%     1249.750000     163.000000      1.00000            NaN   \n",
       "50%     2499.500000     284.000000      2.00000            NaN   \n",
       "75%     3749.250000     390.000000      3.00000            NaN   \n",
       "max     4999.000000  704000.000000   2000.00000            NaN   \n",
       "std     1443.520003   41282.539349    116.32032            NaN   \n",
       "\n",
       "                           created_at    unit_price  \n",
       "count                            5000   5000.000000  \n",
       "unique                            NaN           NaN  \n",
       "top                               NaN           NaN  \n",
       "freq                              NaN           NaN  \n",
       "mean    2017-03-15 22:20:37.076199936    387.742800  \n",
       "min               2017-03-01 00:08:09     90.000000  \n",
       "25%     2017-03-08 07:08:03.750000128    133.000000  \n",
       "50%        2017-03-16 00:21:20.500000    153.000000  \n",
       "75%     2017-03-23 10:39:58.249999872    169.000000  \n",
       "max               2017-03-30 23:55:35  25725.000000  \n",
       "std                               NaN   2441.963725  "
      ]
     },
     "execution_count": 407,
     "metadata": {},
     "output_type": "execute_result"
    }
   ],
   "source": [
    "# one of the potential reason in miscalculations might be the price for one unit of items which should\n",
    "# range typically between 70$ and 250$, which is retail sneaker price\n",
    "\n",
    "shops_data['unit_price'] = shops_data['order_amount']/shops_data['total_items']\n",
    "shops_data_statistics = shops_data.drop(['order_id', 'shop_id', 'user_id'],axis=1)\n",
    "shops_data_statistics.describe(include='all',datetime_is_numeric=True)\n",
    "\n",
    "\n",
    "# overall, unit price value seems to be invalid based on descriptive statistcs. \n",
    "# Unit_price of 25k + makes no sense"
   ]
  },
  {
   "cell_type": "code",
   "execution_count": 400,
   "id": "6c7077b5",
   "metadata": {},
   "outputs": [
    {
     "name": "stderr",
     "output_type": "stream",
     "text": [
      "/Users/samiragayev/opt/anaconda3/lib/python3.8/site-packages/seaborn/distributions.py:2557: FutureWarning: `distplot` is a deprecated function and will be removed in a future version. Please adapt your code to use either `displot` (a figure-level function with similar flexibility) or `histplot` (an axes-level function for histograms).\n",
      "  warnings.warn(msg, FutureWarning)\n"
     ]
    },
    {
     "data": {
      "text/plain": [
       "<AxesSubplot:xlabel='unit_price', ylabel='Density'>"
      ]
     },
     "execution_count": 400,
     "metadata": {},
     "output_type": "execute_result"
    },
    {
     "data": {
      "image/png": "[encoded data removed]",
      "text/plain": [
       "<Figure size 842.4x595.44 with 1 Axes>"
      ]
     },
     "metadata": {},
     "output_type": "display_data"
    }
   ],
   "source": [
    "# A great step in the data exploration is to display the probability distribution function (PDF) of a variable\n",
    "# The PDF will show us how that variable is distributed \n",
    "# This makes it very easy to spot anomalies, such as outliers\n",
    "sns.distplot(shops_data['unit_price'])\n",
    "\n",
    "# PDF prooves the assumption of the unit price issues provided in the database"
   ]
  },
  {
   "cell_type": "code",
   "execution_count": 374,
   "id": "2c690958",
   "metadata": {
    "scrolled": true
   },
   "outputs": [
    {
     "data": {
      "text/html": [
       "<div>\n",
       "<style scoped>\n",
       "    .dataframe tbody tr th:only-of-type {\n",
       "        vertical-align: middle;\n",
       "    }\n",
       "\n",
       "    .dataframe tbody tr th {\n",
       "        vertical-align: top;\n",
       "    }\n",
       "\n",
       "    .dataframe thead th {\n",
       "        text-align: right;\n",
       "    }\n",
       "</style>\n",
       "<table border=\"1\" class=\"dataframe\">\n",
       "  <thead>\n",
       "    <tr style=\"text-align: right;\">\n",
       "      <th></th>\n",
       "      <th>index</th>\n",
       "      <th>order_id</th>\n",
       "      <th>shop_id</th>\n",
       "      <th>user_id</th>\n",
       "      <th>order_amount</th>\n",
       "      <th>total_items</th>\n",
       "      <th>payment_method</th>\n",
       "      <th>created_at</th>\n",
       "      <th>unit_price</th>\n",
       "    </tr>\n",
       "  </thead>\n",
       "  <tbody>\n",
       "    <tr>\n",
       "      <th>count</th>\n",
       "      <td>4903.000000</td>\n",
       "      <td>4903.000000</td>\n",
       "      <td>4903.000000</td>\n",
       "      <td>4903.000000</td>\n",
       "      <td>4903.000000</td>\n",
       "      <td>4903.000000</td>\n",
       "      <td>4903</td>\n",
       "      <td>4903</td>\n",
       "      <td>4903.000000</td>\n",
       "    </tr>\n",
       "    <tr>\n",
       "      <th>unique</th>\n",
       "      <td>NaN</td>\n",
       "      <td>NaN</td>\n",
       "      <td>NaN</td>\n",
       "      <td>NaN</td>\n",
       "      <td>NaN</td>\n",
       "      <td>NaN</td>\n",
       "      <td>3</td>\n",
       "      <td>NaN</td>\n",
       "      <td>NaN</td>\n",
       "    </tr>\n",
       "    <tr>\n",
       "      <th>top</th>\n",
       "      <td>NaN</td>\n",
       "      <td>NaN</td>\n",
       "      <td>NaN</td>\n",
       "      <td>NaN</td>\n",
       "      <td>NaN</td>\n",
       "      <td>NaN</td>\n",
       "      <td>credit_card</td>\n",
       "      <td>NaN</td>\n",
       "      <td>NaN</td>\n",
       "    </tr>\n",
       "    <tr>\n",
       "      <th>freq</th>\n",
       "      <td>NaN</td>\n",
       "      <td>NaN</td>\n",
       "      <td>NaN</td>\n",
       "      <td>NaN</td>\n",
       "      <td>NaN</td>\n",
       "      <td>NaN</td>\n",
       "      <td>1698</td>\n",
       "      <td>NaN</td>\n",
       "      <td>NaN</td>\n",
       "    </tr>\n",
       "    <tr>\n",
       "      <th>mean</th>\n",
       "      <td>2498.427085</td>\n",
       "      <td>2499.584540</td>\n",
       "      <td>49.900877</td>\n",
       "      <td>849.858862</td>\n",
       "      <td>300.155823</td>\n",
       "      <td>1.995717</td>\n",
       "      <td>NaN</td>\n",
       "      <td>2017-03-15 22:10:55.943299840</td>\n",
       "      <td>150.400163</td>\n",
       "    </tr>\n",
       "    <tr>\n",
       "      <th>min</th>\n",
       "      <td>0.000000</td>\n",
       "      <td>1.000000</td>\n",
       "      <td>1.000000</td>\n",
       "      <td>700.000000</td>\n",
       "      <td>90.000000</td>\n",
       "      <td>1.000000</td>\n",
       "      <td>NaN</td>\n",
       "      <td>2017-03-01 00:08:09</td>\n",
       "      <td>90.000000</td>\n",
       "    </tr>\n",
       "    <tr>\n",
       "      <th>25%</th>\n",
       "      <td>1244.500000</td>\n",
       "      <td>1246.500000</td>\n",
       "      <td>24.000000</td>\n",
       "      <td>776.000000</td>\n",
       "      <td>163.000000</td>\n",
       "      <td>1.000000</td>\n",
       "      <td>NaN</td>\n",
       "      <td>2017-03-08 06:23:40</td>\n",
       "      <td>132.000000</td>\n",
       "    </tr>\n",
       "    <tr>\n",
       "      <th>50%</th>\n",
       "      <td>2495.000000</td>\n",
       "      <td>2499.000000</td>\n",
       "      <td>50.000000</td>\n",
       "      <td>850.000000</td>\n",
       "      <td>284.000000</td>\n",
       "      <td>2.000000</td>\n",
       "      <td>NaN</td>\n",
       "      <td>2017-03-15 23:46:37</td>\n",
       "      <td>153.000000</td>\n",
       "    </tr>\n",
       "    <tr>\n",
       "      <th>75%</th>\n",
       "      <td>3746.500000</td>\n",
       "      <td>3750.500000</td>\n",
       "      <td>74.000000</td>\n",
       "      <td>925.000000</td>\n",
       "      <td>386.500000</td>\n",
       "      <td>3.000000</td>\n",
       "      <td>NaN</td>\n",
       "      <td>2017-03-23 10:28:42</td>\n",
       "      <td>166.000000</td>\n",
       "    </tr>\n",
       "    <tr>\n",
       "      <th>max</th>\n",
       "      <td>4999.000000</td>\n",
       "      <td>5000.000000</td>\n",
       "      <td>100.000000</td>\n",
       "      <td>999.000000</td>\n",
       "      <td>1086.000000</td>\n",
       "      <td>8.000000</td>\n",
       "      <td>NaN</td>\n",
       "      <td>2017-03-30 23:55:35</td>\n",
       "      <td>201.000000</td>\n",
       "    </tr>\n",
       "    <tr>\n",
       "      <th>std</th>\n",
       "      <td>1445.211817</td>\n",
       "      <td>1444.221163</td>\n",
       "      <td>29.154367</td>\n",
       "      <td>86.887947</td>\n",
       "      <td>155.941112</td>\n",
       "      <td>0.982602</td>\n",
       "      <td>NaN</td>\n",
       "      <td>NaN</td>\n",
       "      <td>23.851202</td>\n",
       "    </tr>\n",
       "  </tbody>\n",
       "</table>\n",
       "</div>"
      ],
      "text/plain": [
       "              index     order_id      shop_id      user_id  order_amount  \\\n",
       "count   4903.000000  4903.000000  4903.000000  4903.000000   4903.000000   \n",
       "unique          NaN          NaN          NaN          NaN           NaN   \n",
       "top             NaN          NaN          NaN          NaN           NaN   \n",
       "freq            NaN          NaN          NaN          NaN           NaN   \n",
       "mean    2498.427085  2499.584540    49.900877   849.858862    300.155823   \n",
       "min        0.000000     1.000000     1.000000   700.000000     90.000000   \n",
       "25%     1244.500000  1246.500000    24.000000   776.000000    163.000000   \n",
       "50%     2495.000000  2499.000000    50.000000   850.000000    284.000000   \n",
       "75%     3746.500000  3750.500000    74.000000   925.000000    386.500000   \n",
       "max     4999.000000  5000.000000   100.000000   999.000000   1086.000000   \n",
       "std     1445.211817  1444.221163    29.154367    86.887947    155.941112   \n",
       "\n",
       "        total_items payment_method                     created_at   unit_price  \n",
       "count   4903.000000           4903                           4903  4903.000000  \n",
       "unique          NaN              3                            NaN          NaN  \n",
       "top             NaN    credit_card                            NaN          NaN  \n",
       "freq            NaN           1698                            NaN          NaN  \n",
       "mean       1.995717            NaN  2017-03-15 22:10:55.943299840   150.400163  \n",
       "min        1.000000            NaN            2017-03-01 00:08:09    90.000000  \n",
       "25%        1.000000            NaN            2017-03-08 06:23:40   132.000000  \n",
       "50%        2.000000            NaN            2017-03-15 23:46:37   153.000000  \n",
       "75%        3.000000            NaN            2017-03-23 10:28:42   166.000000  \n",
       "max        8.000000            NaN            2017-03-30 23:55:35   201.000000  \n",
       "std        0.982602            NaN                            NaN    23.851202  "
      ]
     },
     "execution_count": 374,
     "metadata": {},
     "output_type": "execute_result"
    }
   ],
   "source": [
    "# we can deal with the problem easily by removing 0.5%, or 1% of the problematic samples\n",
    "# Here, the outliers are situated around the higher prices (right side of the graph) that's seen as a spike\n",
    "# right after 25000\n",
    "\n",
    "# Let's declare a variable that will be equal to the 99th percentile of the 'Price' variable\n",
    "percentile = shops_data['unit_price'].quantile(0.99)\n",
    "\n",
    "# Then we can create a new df, with the condition that all price units must be below the 99 \n",
    "# percentile of 'price_unit'\n",
    "shops_data_cleaned = shops_data[shops_data['unit_price']<percentile]\n",
    "\n",
    "# Finally, once we reset the index, a new column will be created containing the old index (just in case)\n",
    "# We won't be needing it, thus 'drop=True' to completely forget about it\n",
    "\n",
    "shops_data_cleaned.reset_index(drop=True,inplace=True)\n",
    "\n",
    "# In this way we have essentially removed the top 1% of the data and unit price makes more sense now\n",
    "shops_data_cleaned.describe(include='all', datetime_is_numeric=True)\n",
    "\n"
   ]
  },
  {
   "cell_type": "markdown",
   "id": "c53f2e93",
   "metadata": {},
   "source": [
    "Deleting data is usually not the best practice. We still can explore to what how this affect data evaluation (if any)"
   ]
  },
  {
   "cell_type": "code",
   "execution_count": 382,
   "id": "87b7521d",
   "metadata": {},
   "outputs": [
    {
     "data": {
      "text/plain": [
       "<seaborn.axisgrid.FacetGrid at 0x7ffc2e0189a0>"
      ]
     },
     "execution_count": 382,
     "metadata": {},
     "output_type": "execute_result"
    },
    {
     "data": {
      "image/png": "[encoded data removed]",
      "text/plain": [
       "<Figure size 360x360 with 1 Axes>"
      ]
     },
     "metadata": {},
     "output_type": "display_data"
    }
   ],
   "source": [
    "# We can check the PDF once again to ensure that the result is still distributed in the same way overall\n",
    "# however, there are much fewer outliers and overall unit price distribution makes much more sense now in terms of values\n",
    "sns.displot(shops_data_cleaned['unit_price'])"
   ]
  },
  {
   "cell_type": "code",
   "execution_count": 376,
   "id": "b7529591",
   "metadata": {},
   "outputs": [],
   "source": [
    "# once we are done with the cleaning it's time to jump to AOV\n",
    "# Based on multiple sources, AOV = Revenue/number of units sold\n",
    "# First thing to do is to sum order amount = revenue, and total items sold based in each store separately\n",
    "# and afterwards, to divide sum all orders by the number of the items sold\n",
    "\n",
    "aov_stores = shops_data_cleaned.groupby('shop_id')['order_amount'].agg('sum')/shops_data_cleaned.groupby('shop_id')['total_items'].agg('sum')                                                                                                                                                                                                                                                                                                                                                                                   \n",
    "                                                                                                       "
   ]
  },
  {
   "cell_type": "code",
   "execution_count": 388,
   "id": "ad017108",
   "metadata": {},
   "outputs": [
    {
     "name": "stdout",
     "output_type": "stream",
     "text": [
      "150.22448979591837\n"
     ]
    }
   ],
   "source": [
    "# It's the same as AOV for each of the store separetely\n",
    "# since all the stores have to be taken into the consideration\n",
    "# one of the commonly used measure of central tendency - average, can be used here\n",
    "\n",
    "print(aov_stores.mean())"
   ]
  },
  {
   "cell_type": "markdown",
   "id": "61291f7d",
   "metadata": {},
   "source": [
    "aov = 150 $ which is within a commonly known average of sneakers price provided eariler"
   ]
  },
  {
   "cell_type": "markdown",
   "id": "b2868db8",
   "metadata": {},
   "source": [
    "However, it should be noted that when it comes to measure of central tendency, it's not recommened to use\n",
    "only one, but combination of such metrics to better evaluate the data that includes median and mode\n",
    "\n",
    "\n"
   ]
  },
  {
   "cell_type": "code",
   "execution_count": 391,
   "id": "37c99342",
   "metadata": {},
   "outputs": [
    {
     "name": "stdout",
     "output_type": "stream",
     "text": [
      "153.0\n",
      "0    153.0\n",
      "dtype: float64\n"
     ]
    }
   ],
   "source": [
    "print(aov_stores.sort_values().median())\n",
    "print(aov_stores.mode())"
   ]
  },
  {
   "cell_type": "markdown",
   "id": "4d382d0f",
   "metadata": {},
   "source": [
    "What if we calculate those central measures of tendencdy before cleaning?"
   ]
  },
  {
   "cell_type": "code",
   "execution_count": 445,
   "id": "e21e99ba",
   "metadata": {},
   "outputs": [
    {
     "name": "stdout",
     "output_type": "stream",
     "text": [
      "407.99\n",
      "0    153.0\n",
      "dtype: float64\n",
      "153.0\n"
     ]
    }
   ],
   "source": [
    "# reminder, idea of unit price is the same as AOV\n",
    "# mean aov for each one of the stores and their respectice central tendency values\n",
    "shop_data_sorted = shops_data.groupby('shop_id')['unit_price'].agg('mean')\n",
    "\n",
    "print(shop_data_sorted.mean())\n",
    "print(shop_data_sorted.mode())\n",
    "print(shop_data_sorted.median())\n",
    "\n",
    "# 407.0 for average price? seems to be high\n"
   ]
  },
  {
   "cell_type": "markdown",
   "id": "ef040f64",
   "metadata": {},
   "source": [
    "### What metric would you report for this dataset? What is its value?\n"
   ]
  },
  {
   "cell_type": "markdown",
   "id": "bb3f4c62",
   "metadata": {},
   "source": [
    "Based on the calculations above, I'd use median since average calculations are biased by the outliers. Although deleting data is usualy considered as a bad practice, deleting 1% of the data in order to remove outliers can still be considered as a potential solution\n",
    "\n",
    "Another way is to investigate what causes issue"
   ]
  },
  {
   "cell_type": "code",
   "execution_count": 447,
   "id": "e792b94c",
   "metadata": {},
   "outputs": [
    {
     "name": "stdout",
     "output_type": "stream",
     "text": [
      "shop_id\n",
      "1        158.0\n",
      "2         94.0\n",
      "3        148.0\n",
      "4        128.0\n",
      "5        142.0\n",
      "6        187.0\n",
      "7        112.0\n",
      "8        132.0\n",
      "9        118.0\n",
      "10       148.0\n",
      "11       184.0\n",
      "12       201.0\n",
      "13       160.0\n",
      "14       116.0\n",
      "15       153.0\n",
      "16       156.0\n",
      "17       176.0\n",
      "18       156.0\n",
      "19       163.0\n",
      "20       127.0\n",
      "21       142.0\n",
      "22       146.0\n",
      "23       156.0\n",
      "24       140.0\n",
      "25       130.0\n",
      "26       176.0\n",
      "27       169.0\n",
      "28       164.0\n",
      "29       163.0\n",
      "30       153.0\n",
      "31       129.0\n",
      "32       101.0\n",
      "33       173.0\n",
      "34       122.0\n",
      "35       164.0\n",
      "36       130.0\n",
      "37       142.0\n",
      "38       190.0\n",
      "39       134.0\n",
      "40       161.0\n",
      "41       118.0\n",
      "42       352.0\n",
      "43       181.0\n",
      "44       144.0\n",
      "45       142.0\n",
      "46       166.0\n",
      "47       145.0\n",
      "48       117.0\n",
      "49       129.0\n",
      "50       193.0\n",
      "51       187.0\n",
      "52       146.0\n",
      "53       112.0\n",
      "54       133.0\n",
      "55       171.0\n",
      "56       117.0\n",
      "57       147.0\n",
      "58       138.0\n",
      "59       178.0\n",
      "60       177.0\n",
      "61       158.0\n",
      "62       160.0\n",
      "63       136.0\n",
      "64       133.0\n",
      "65       154.0\n",
      "66       161.0\n",
      "67       131.0\n",
      "68       136.0\n",
      "69       131.0\n",
      "70       173.0\n",
      "71       164.0\n",
      "72       160.0\n",
      "73       165.0\n",
      "74       153.0\n",
      "75       128.0\n",
      "76       155.0\n",
      "77       156.0\n",
      "78     25725.0\n",
      "79       181.0\n",
      "80       145.0\n",
      "81       177.0\n",
      "82       177.0\n",
      "83       129.0\n",
      "84       153.0\n",
      "85       172.0\n",
      "86       130.0\n",
      "87       149.0\n",
      "88       176.0\n",
      "89       196.0\n",
      "90       178.0\n",
      "91       160.0\n",
      "92        90.0\n",
      "93       114.0\n",
      "94       134.0\n",
      "95       168.0\n",
      "96       153.0\n",
      "97       162.0\n",
      "98       133.0\n",
      "99       195.0\n",
      "100      111.0\n",
      "dtype: float64\n"
     ]
    }
   ],
   "source": [
    "with pd.option_context('display.max_rows', None, 'display.max_columns', None):\n",
    "    \n",
    "    print(shops_data.groupby('shop_id')['order_amount'].agg('sum')/shops_data.groupby('shop_id')['total_items'].agg('sum'))  "
   ]
  },
  {
   "cell_type": "markdown",
   "id": "ef8d993c",
   "metadata": {},
   "source": [
    "Seems like store 78 has some data input issues. We can recalculate central tendecies to see if it changes results much."
   ]
  },
  {
   "cell_type": "code",
   "execution_count": 449,
   "id": "8803678f",
   "metadata": {},
   "outputs": [],
   "source": [
    "shops_no_outlier = shops_data.groupby('shop_id')['order_amount'].agg('sum')/shops_data.groupby('shop_id')['total_items'].agg('sum')"
   ]
  },
  {
   "cell_type": "code",
   "execution_count": 457,
   "id": "e2b954a1",
   "metadata": {},
   "outputs": [
    {
     "name": "stdout",
     "output_type": "stream",
     "text": [
      "152.26262626262627\n",
      "0    153.0\n",
      "dtype: float64\n",
      "153.0\n"
     ]
    }
   ],
   "source": [
    "# let's remove store 78 data\n",
    "update_df = shops_no_outlier.drop(78)\n",
    "\n",
    "print(update_df.mean())\n",
    "print(update_df.mode())\n",
    "print(update_df.median())"
   ]
  },
  {
   "cell_type": "markdown",
   "id": "acd583eb",
   "metadata": {},
   "source": [
    "Once we remove the problematic store, values seem to make sense"
   ]
  },
  {
   "cell_type": "markdown",
   "id": "5adfb436",
   "metadata": {},
   "source": [
    "## It was a nice challenge, hope answers provided are helpful!"
   ]
  }
 ],
 "metadata": {
  "kernelspec": {
   "display_name": "Python 3",
   "language": "python",
   "name": "python3"
  },
  "language_info": {
   "codemirror_mode": {
    "name": "ipython",
    "version": 3
   },
   "file_extension": ".py",
   "mimetype": "text/x-python",
   "name": "python",
   "nbconvert_exporter": "python",
   "pygments_lexer": "ipython3",
   "version": "3.8.8"
  }
 },
 "nbformat": 4,
 "nbformat_minor": 5
}
